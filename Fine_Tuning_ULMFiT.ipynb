{
  "nbformat": 4,
  "nbformat_minor": 0,
  "metadata": {
    "kernelspec": {
      "language": "python",
      "display_name": "Python 3",
      "name": "python3"
    },
    "language_info": {
      "pygments_lexer": "ipython3",
      "nbconvert_exporter": "python",
      "version": "3.6.4",
      "file_extension": ".py",
      "codemirror_mode": {
        "name": "ipython",
        "version": 3
      },
      "name": "python",
      "mimetype": "text/x-python"
    },
    "colab": {
      "name": "Fine_Tuning_ULMFiT.ipynb",
      "provenance": [],
      "collapsed_sections": [
        "cknmastuZcG1",
        "O0kP5-z8ZcHJ",
        "ImjTPJ3zZcIa",
        "-wnuK6f2ZcI0",
        "yIEfaeIdZcJm",
        "62jAv-nHZcK8",
        "ijZQsT-KZcLG"
      ],
      "include_colab_link": true
    }
  },
  "cells": [
    {
      "cell_type": "markdown",
      "metadata": {
        "id": "view-in-github",
        "colab_type": "text"
      },
      "source": [
        "<a href=\"https://colab.research.google.com/github/Hitesh111/Twitter-Sentiment-Analysis---US-Airlines/blob/master/Fine_Tuning_ULMFiT.ipynb\" target=\"_parent\"><img src=\"https://colab.research.google.com/assets/colab-badge.svg\" alt=\"Open In Colab\"/></a>"
      ]
    },
    {
      "cell_type": "markdown",
      "metadata": {
        "id": "TSzkhNLZZcFf",
        "colab_type": "text"
      },
      "source": [
        "# Supervised or semi-supervised ULMFiT model to Twitter US Airlines Sentiment \n",
        "In this notebook we will explores the Twitter US Airline Sentiment Dataset and tries to predict tweet sentiment using transfer learning and Fine tuning it, Fast.ai's library for Universal Language Model Fine-tuning for Text Classification (ULMFiT).\n",
        "\n",
        "Introduction : ULMFiT(Universal Language Model Fine-tuning) is a tansfer learning approach for NLP(natural Language processing) tasks. This was introduced by Jeremy Howard and Sebastian Ruder in 2018. In transfer learning we use pre-tranined model for a given specific task. This helps in reducing the training time with a quite high margin.\n",
        "\n",
        "\n",
        "The more about this can be found in this paper [here](https://arxiv.org/abs/1801.06146)"
      ]
    },
    {
      "cell_type": "code",
      "metadata": {
        "_uuid": "8f2839f25d086af736a60e9eeb907d3b93b6e0e5",
        "_cell_guid": "b1076dfc-b9ad-4769-8c92-a6c4dae69d19",
        "trusted": true,
        "_kg_hide-input": true,
        "_kg_hide-output": true,
        "id": "vCTkHE-2ZcFh",
        "colab_type": "code",
        "colab": {},
        "outputId": "f2e1bf58-e2ed-4120-8df4-2261ae2be232"
      },
      "source": [
        "# This Python 3 environment comes with many helpful analytics libraries installed\n",
        "# It is defined by the kaggle/python docker image: https://github.com/kaggle/docker-python\n",
        "# For example, here's several helpful packages to load in \n",
        "\n",
        "import numpy as np # linear algebra\n",
        "import pandas as pd # data processing, CSV file I/O (e.g. pd.read_csv)\n",
        "\n",
        "\n",
        "# Input data files are available in the \"../input/\" directory.\n",
        "# For example, running this (by clicking run or pressing Shift+Enter) will list all files under the input directory\n",
        "\n",
        "import os\n",
        "for dirname, _, filenames in os.walk('/kaggle/input'):\n",
        "    for filename in filenames:\n",
        "        print(os.path.join(dirname, filename))\n",
        "\n",
        "# Any results you write to the current directory are saved as output."
      ],
      "execution_count": 0,
      "outputs": [
        {
          "output_type": "stream",
          "text": [
            "/kaggle/input/twitter-airline-sentiment/database.sqlite\n",
            "/kaggle/input/twitter-airline-sentiment/Tweets.csv\n"
          ],
          "name": "stdout"
        }
      ]
    },
    {
      "cell_type": "code",
      "metadata": {
        "trusted": true,
        "id": "tr618NwlZcFr",
        "colab_type": "code",
        "colab": {}
      },
      "source": [
        "!pip install git+https://github.com/makcedward/nlpaug.git numpy matplotlib python-dotenv; pip install nltk"
      ],
      "execution_count": 0,
      "outputs": []
    },
    {
      "cell_type": "markdown",
      "metadata": {
        "id": "pkrRIqXOZcFy",
        "colab_type": "text"
      },
      "source": [
        "Loading necessary libraries "
      ]
    },
    {
      "cell_type": "code",
      "metadata": {
        "_uuid": "d629ff2d2480ee46fbb7e2d37f6b5fab8052498a",
        "_cell_guid": "79c7e3d0-c299-4dcb-8224-4455121ee9b0",
        "trusted": true,
        "id": "2Ps8O-4bZcFz",
        "colab_type": "code",
        "colab": {}
      },
      "source": [
        "#Basic libraries\n",
        "import numpy as np\n",
        "import pandas as pd\n",
        "import matplotlib.pyplot as plt\n",
        "import seaborn as sns\n",
        "\n",
        "#Fastai Librraries\n",
        "from pathlib import Path\n",
        "from fastai.text import *\n",
        "\n",
        "#splitting the dataset\n",
        "from sklearn.model_selection import train_test_split\n",
        "\n",
        "# nlp word augmentation libraries\n",
        "import nlpaug.augmenter.word as naw\n",
        "from nlpaug.util import Action"
      ],
      "execution_count": 0,
      "outputs": []
    },
    {
      "cell_type": "code",
      "metadata": {
        "trusted": true,
        "id": "o_SyYpSmZcF6",
        "colab_type": "code",
        "colab": {}
      },
      "source": [
        "path = Path('../input/twitter-airline-sentiment/')\n",
        "filename = 'Tweets.csv'"
      ],
      "execution_count": 0,
      "outputs": []
    },
    {
      "cell_type": "markdown",
      "metadata": {
        "id": "mk-2f8LpZcGB",
        "colab_type": "text"
      },
      "source": [
        "## EDA \n",
        "we will start by looking into few rows of the dataset after loading it as ***tweets_df***.\n",
        "\n",
        "\n",
        "Dataset has 14640 rows and 15 coulmns.\n",
        "\n",
        "columns Names are \n",
        "        \n",
        "       'tweet_id', 'airline_sentiment', 'airline_sentiment_confidence',\n",
        "       'negativereason', 'negativereason_confidence', 'airline',\n",
        "       'airline_sentiment_gold', 'name', 'negativereason_gold',\n",
        "       'retweet_count', 'text', 'tweet_coord', 'tweet_created',\n",
        "       'tweet_location', 'user_timezone\n",
        "       \n",
        "We will drop all columns besides airline_sentiment and text, and store it in ***df***"
      ]
    },
    {
      "cell_type": "code",
      "metadata": {
        "trusted": true,
        "id": "8Oi6arnhZcGC",
        "colab_type": "code",
        "colab": {},
        "outputId": "b8376a8c-ed45-4161-8613-43257a4a14c8"
      },
      "source": [
        "filepath = path/filename\n",
        "tweets_df = pd.read_csv(filepath)\n",
        "tweets_df.head()"
      ],
      "execution_count": 0,
      "outputs": [
        {
          "output_type": "execute_result",
          "data": {
            "text/plain": [
              "             tweet_id airline_sentiment  airline_sentiment_confidence  \\\n",
              "0  570306133677760513           neutral                        1.0000   \n",
              "1  570301130888122368          positive                        0.3486   \n",
              "2  570301083672813571           neutral                        0.6837   \n",
              "3  570301031407624196          negative                        1.0000   \n",
              "4  570300817074462722          negative                        1.0000   \n",
              "\n",
              "  negativereason  negativereason_confidence         airline  \\\n",
              "0            NaN                        NaN  Virgin America   \n",
              "1            NaN                     0.0000  Virgin America   \n",
              "2            NaN                        NaN  Virgin America   \n",
              "3     Bad Flight                     0.7033  Virgin America   \n",
              "4     Can't Tell                     1.0000  Virgin America   \n",
              "\n",
              "  airline_sentiment_gold        name negativereason_gold  retweet_count  \\\n",
              "0                    NaN     cairdin                 NaN              0   \n",
              "1                    NaN    jnardino                 NaN              0   \n",
              "2                    NaN  yvonnalynn                 NaN              0   \n",
              "3                    NaN    jnardino                 NaN              0   \n",
              "4                    NaN    jnardino                 NaN              0   \n",
              "\n",
              "                                                text tweet_coord  \\\n",
              "0                @VirginAmerica What @dhepburn said.         NaN   \n",
              "1  @VirginAmerica plus you've added commercials t...         NaN   \n",
              "2  @VirginAmerica I didn't today... Must mean I n...         NaN   \n",
              "3  @VirginAmerica it's really aggressive to blast...         NaN   \n",
              "4  @VirginAmerica and it's a really big bad thing...         NaN   \n",
              "\n",
              "               tweet_created tweet_location               user_timezone  \n",
              "0  2015-02-24 11:35:52 -0800            NaN  Eastern Time (US & Canada)  \n",
              "1  2015-02-24 11:15:59 -0800            NaN  Pacific Time (US & Canada)  \n",
              "2  2015-02-24 11:15:48 -0800      Lets Play  Central Time (US & Canada)  \n",
              "3  2015-02-24 11:15:36 -0800            NaN  Pacific Time (US & Canada)  \n",
              "4  2015-02-24 11:14:45 -0800            NaN  Pacific Time (US & Canada)  "
            ],
            "text/html": [
              "<div>\n",
              "<style scoped>\n",
              "    .dataframe tbody tr th:only-of-type {\n",
              "        vertical-align: middle;\n",
              "    }\n",
              "\n",
              "    .dataframe tbody tr th {\n",
              "        vertical-align: top;\n",
              "    }\n",
              "\n",
              "    .dataframe thead th {\n",
              "        text-align: right;\n",
              "    }\n",
              "</style>\n",
              "<table border=\"1\" class=\"dataframe\">\n",
              "  <thead>\n",
              "    <tr style=\"text-align: right;\">\n",
              "      <th></th>\n",
              "      <th>tweet_id</th>\n",
              "      <th>airline_sentiment</th>\n",
              "      <th>airline_sentiment_confidence</th>\n",
              "      <th>negativereason</th>\n",
              "      <th>negativereason_confidence</th>\n",
              "      <th>airline</th>\n",
              "      <th>airline_sentiment_gold</th>\n",
              "      <th>name</th>\n",
              "      <th>negativereason_gold</th>\n",
              "      <th>retweet_count</th>\n",
              "      <th>text</th>\n",
              "      <th>tweet_coord</th>\n",
              "      <th>tweet_created</th>\n",
              "      <th>tweet_location</th>\n",
              "      <th>user_timezone</th>\n",
              "    </tr>\n",
              "  </thead>\n",
              "  <tbody>\n",
              "    <tr>\n",
              "      <th>0</th>\n",
              "      <td>570306133677760513</td>\n",
              "      <td>neutral</td>\n",
              "      <td>1.0000</td>\n",
              "      <td>NaN</td>\n",
              "      <td>NaN</td>\n",
              "      <td>Virgin America</td>\n",
              "      <td>NaN</td>\n",
              "      <td>cairdin</td>\n",
              "      <td>NaN</td>\n",
              "      <td>0</td>\n",
              "      <td>@VirginAmerica What @dhepburn said.</td>\n",
              "      <td>NaN</td>\n",
              "      <td>2015-02-24 11:35:52 -0800</td>\n",
              "      <td>NaN</td>\n",
              "      <td>Eastern Time (US &amp; Canada)</td>\n",
              "    </tr>\n",
              "    <tr>\n",
              "      <th>1</th>\n",
              "      <td>570301130888122368</td>\n",
              "      <td>positive</td>\n",
              "      <td>0.3486</td>\n",
              "      <td>NaN</td>\n",
              "      <td>0.0000</td>\n",
              "      <td>Virgin America</td>\n",
              "      <td>NaN</td>\n",
              "      <td>jnardino</td>\n",
              "      <td>NaN</td>\n",
              "      <td>0</td>\n",
              "      <td>@VirginAmerica plus you've added commercials t...</td>\n",
              "      <td>NaN</td>\n",
              "      <td>2015-02-24 11:15:59 -0800</td>\n",
              "      <td>NaN</td>\n",
              "      <td>Pacific Time (US &amp; Canada)</td>\n",
              "    </tr>\n",
              "    <tr>\n",
              "      <th>2</th>\n",
              "      <td>570301083672813571</td>\n",
              "      <td>neutral</td>\n",
              "      <td>0.6837</td>\n",
              "      <td>NaN</td>\n",
              "      <td>NaN</td>\n",
              "      <td>Virgin America</td>\n",
              "      <td>NaN</td>\n",
              "      <td>yvonnalynn</td>\n",
              "      <td>NaN</td>\n",
              "      <td>0</td>\n",
              "      <td>@VirginAmerica I didn't today... Must mean I n...</td>\n",
              "      <td>NaN</td>\n",
              "      <td>2015-02-24 11:15:48 -0800</td>\n",
              "      <td>Lets Play</td>\n",
              "      <td>Central Time (US &amp; Canada)</td>\n",
              "    </tr>\n",
              "    <tr>\n",
              "      <th>3</th>\n",
              "      <td>570301031407624196</td>\n",
              "      <td>negative</td>\n",
              "      <td>1.0000</td>\n",
              "      <td>Bad Flight</td>\n",
              "      <td>0.7033</td>\n",
              "      <td>Virgin America</td>\n",
              "      <td>NaN</td>\n",
              "      <td>jnardino</td>\n",
              "      <td>NaN</td>\n",
              "      <td>0</td>\n",
              "      <td>@VirginAmerica it's really aggressive to blast...</td>\n",
              "      <td>NaN</td>\n",
              "      <td>2015-02-24 11:15:36 -0800</td>\n",
              "      <td>NaN</td>\n",
              "      <td>Pacific Time (US &amp; Canada)</td>\n",
              "    </tr>\n",
              "    <tr>\n",
              "      <th>4</th>\n",
              "      <td>570300817074462722</td>\n",
              "      <td>negative</td>\n",
              "      <td>1.0000</td>\n",
              "      <td>Can't Tell</td>\n",
              "      <td>1.0000</td>\n",
              "      <td>Virgin America</td>\n",
              "      <td>NaN</td>\n",
              "      <td>jnardino</td>\n",
              "      <td>NaN</td>\n",
              "      <td>0</td>\n",
              "      <td>@VirginAmerica and it's a really big bad thing...</td>\n",
              "      <td>NaN</td>\n",
              "      <td>2015-02-24 11:14:45 -0800</td>\n",
              "      <td>NaN</td>\n",
              "      <td>Pacific Time (US &amp; Canada)</td>\n",
              "    </tr>\n",
              "  </tbody>\n",
              "</table>\n",
              "</div>"
            ]
          },
          "metadata": {
            "tags": []
          },
          "execution_count": 5
        }
      ]
    },
    {
      "cell_type": "code",
      "metadata": {
        "trusted": true,
        "id": "mhhzakxlZcGJ",
        "colab_type": "code",
        "colab": {},
        "outputId": "99a044b8-523e-4154-c8f5-55b0a735c3ae"
      },
      "source": [
        "tweets_df.shape"
      ],
      "execution_count": 0,
      "outputs": [
        {
          "output_type": "execute_result",
          "data": {
            "text/plain": [
              "(14640, 15)"
            ]
          },
          "metadata": {
            "tags": []
          },
          "execution_count": 6
        }
      ]
    },
    {
      "cell_type": "code",
      "metadata": {
        "trusted": true,
        "id": "_3uvzcOnZcGR",
        "colab_type": "code",
        "colab": {},
        "outputId": "c70dff4a-f3d9-4068-a932-a2b1d8b546b5"
      },
      "source": [
        "df = tweets_df[['airline_sentiment', 'text']]\n",
        "df.head(6)"
      ],
      "execution_count": 0,
      "outputs": [
        {
          "output_type": "execute_result",
          "data": {
            "text/plain": [
              "  airline_sentiment                                               text\n",
              "0           neutral                @VirginAmerica What @dhepburn said.\n",
              "1          positive  @VirginAmerica plus you've added commercials t...\n",
              "2           neutral  @VirginAmerica I didn't today... Must mean I n...\n",
              "3          negative  @VirginAmerica it's really aggressive to blast...\n",
              "4          negative  @VirginAmerica and it's a really big bad thing...\n",
              "5          negative  @VirginAmerica seriously would pay $30 a fligh..."
            ],
            "text/html": [
              "<div>\n",
              "<style scoped>\n",
              "    .dataframe tbody tr th:only-of-type {\n",
              "        vertical-align: middle;\n",
              "    }\n",
              "\n",
              "    .dataframe tbody tr th {\n",
              "        vertical-align: top;\n",
              "    }\n",
              "\n",
              "    .dataframe thead th {\n",
              "        text-align: right;\n",
              "    }\n",
              "</style>\n",
              "<table border=\"1\" class=\"dataframe\">\n",
              "  <thead>\n",
              "    <tr style=\"text-align: right;\">\n",
              "      <th></th>\n",
              "      <th>airline_sentiment</th>\n",
              "      <th>text</th>\n",
              "    </tr>\n",
              "  </thead>\n",
              "  <tbody>\n",
              "    <tr>\n",
              "      <th>0</th>\n",
              "      <td>neutral</td>\n",
              "      <td>@VirginAmerica What @dhepburn said.</td>\n",
              "    </tr>\n",
              "    <tr>\n",
              "      <th>1</th>\n",
              "      <td>positive</td>\n",
              "      <td>@VirginAmerica plus you've added commercials t...</td>\n",
              "    </tr>\n",
              "    <tr>\n",
              "      <th>2</th>\n",
              "      <td>neutral</td>\n",
              "      <td>@VirginAmerica I didn't today... Must mean I n...</td>\n",
              "    </tr>\n",
              "    <tr>\n",
              "      <th>3</th>\n",
              "      <td>negative</td>\n",
              "      <td>@VirginAmerica it's really aggressive to blast...</td>\n",
              "    </tr>\n",
              "    <tr>\n",
              "      <th>4</th>\n",
              "      <td>negative</td>\n",
              "      <td>@VirginAmerica and it's a really big bad thing...</td>\n",
              "    </tr>\n",
              "    <tr>\n",
              "      <th>5</th>\n",
              "      <td>negative</td>\n",
              "      <td>@VirginAmerica seriously would pay $30 a fligh...</td>\n",
              "    </tr>\n",
              "  </tbody>\n",
              "</table>\n",
              "</div>"
            ]
          },
          "metadata": {
            "tags": []
          },
          "execution_count": 7
        }
      ]
    },
    {
      "cell_type": "markdown",
      "metadata": {
        "id": "epULYQ-VZcGa",
        "colab_type": "text"
      },
      "source": [
        "### Class Distribution of our data\n"
      ]
    },
    {
      "cell_type": "code",
      "metadata": {
        "trusted": true,
        "id": "zrFY_6lvZcGb",
        "colab_type": "code",
        "colab": {},
        "outputId": "7fde2262-3c1b-4cb6-ec2d-d1fc9ce55135"
      },
      "source": [
        "df['airline_sentiment'].value_counts()"
      ],
      "execution_count": 0,
      "outputs": [
        {
          "output_type": "execute_result",
          "data": {
            "text/plain": [
              "negative    9178\n",
              "neutral     3099\n",
              "positive    2363\n",
              "Name: airline_sentiment, dtype: int64"
            ]
          },
          "metadata": {
            "tags": []
          },
          "execution_count": 8
        }
      ]
    },
    {
      "cell_type": "code",
      "metadata": {
        "trusted": true,
        "id": "yDEpHHBdZcGh",
        "colab_type": "code",
        "colab": {},
        "outputId": "fa2133a4-e248-4a53-c9b7-bb6f4ecd9ab0"
      },
      "source": [
        "plt.figure(figsize=(6, 6))\n",
        "sentiments_count = sns.countplot(x='airline_sentiment', data=tweets_df, palette=\"YlGnBu\")\n",
        "sns.set_style(style='darkgrid')\n",
        "\n",
        "sentiments_count.set_xlabel(\"Airline sentiment\",fontsize=16)\n",
        "sentiments_count.set_ylabel(\"Number of Tweets\",fontsize=16)\n",
        "sentiments_count.tick_params(labelsize=14)"
      ],
      "execution_count": 0,
      "outputs": [
        {
          "output_type": "display_data",
          "data": {
            "text/plain": [
              "<Figure size 432x432 with 1 Axes>"
            ],
            "image/png": "[encoded data removed]"
          },
          "metadata": {
            "tags": [],
            "needs_background": "light"
          }
        }
      ]
    },
    {
      "cell_type": "markdown",
      "metadata": {
        "id": "1EahaXZ4ZcGn",
        "colab_type": "text"
      },
      "source": [
        "Here's the class distribution of our data look like:\n",
        "* negative  :  9178\n",
        "* neutral   :  3099\n",
        "* positive  :  2363\n",
        "\n",
        "The distribution of data quite imbalanced and is skewd towards negative sentiment,we can see that the number of Negative tweets are more than both positive and neutral combined"
      ]
    },
    {
      "cell_type": "markdown",
      "metadata": {
        "id": "6C7UjLCYZcGo",
        "colab_type": "text"
      },
      "source": [
        "### Sentiment Airline-wise"
      ]
    },
    {
      "cell_type": "code",
      "metadata": {
        "trusted": true,
        "id": "sO_EnkCEZcGq",
        "colab_type": "code",
        "colab": {},
        "outputId": "07de4ab3-efa1-4670-a714-b554844b4578"
      },
      "source": [
        "plt.figure(figsize=(10, 6))\n",
        "airlinewise_senitment = sns.countplot(x='airline', hue='airline_sentiment', data=tweets_df,palette=\"YlGnBu\")\n",
        "sns.set_style(style='darkgrid')\n",
        "airlinewise_senitment.set_ylabel(\"Number of Tweets\",fontsize=16)\n",
        "airlinewise_senitment.set_xlabel(\"Airline Name\",fontsize=16)\n",
        "airlinewise_senitment.tick_params(labelsize=14)"
      ],
      "execution_count": 0,
      "outputs": [
        {
          "output_type": "display_data",
          "data": {
            "text/plain": [
              "<Figure size 720x432 with 1 Axes>"
            ],
            "image/png": "[encoded data removed]"
          },
          "metadata": {
            "tags": []
          }
        }
      ]
    },
    {
      "cell_type": "markdown",
      "metadata": {
        "id": "7HGmQf1LZcG0",
        "colab_type": "text"
      },
      "source": [
        "Here's the breakdown across the airline>\n",
        "* United airline was themost popular airline in 2015 by Most number of tweets.\n",
        "* Virigin america was the least popular airline in 2015 by least no tweets.\n",
        "* * The most negative tweets are toward United, US Airways and American."
      ]
    },
    {
      "cell_type": "markdown",
      "metadata": {
        "id": "cknmastuZcG1",
        "colab_type": "text"
      },
      "source": [
        "### Reasons for complaints"
      ]
    },
    {
      "cell_type": "code",
      "metadata": {
        "trusted": true,
        "id": "cWF4KFe6ZcG3",
        "colab_type": "code",
        "colab": {}
      },
      "source": [
        "tweets_df['negativereason'].nunique()\n",
        "airlines= ['US Airways','United','American','Southwest','Delta','Virgin America']\n",
        "\n",
        "negative_reasons_count=dict(tweets_df['negativereason'].value_counts(sort=False))\n",
        "def negative_reasons_count(airline_name):\n",
        "    if airline_name =='All':\n",
        "        a = tweets_df\n",
        "    else:\n",
        "        a = tweets_df[tweets_df['airline']==airline_name]\n",
        "    count = dict(a['negativereason'].value_counts())\n",
        "    unique_reasons = list(tweets_df['negativereason'].unique())\n",
        "    unique_reasons = [x for x in unique_reasons if str(x) != 'nan']\n",
        "    reason_frame = pd.DataFrame({'Reasons':unique_reasons})\n",
        "    reason_frame['count'] = reason_frame['Reasons'].apply(lambda x: count[x])\n",
        "    return reason_frame\n",
        "def plot_reason(airline_name):\n",
        "    \n",
        "    a = negative_reasons_count(airline_name)\n",
        "    count = a['count']\n",
        "    Index = range(1,(len(a)+1))\n",
        "    plt.bar(Index,count )\n",
        "    plt.xticks(Index,a['Reasons'],rotation=90)\n",
        "    plt.ylabel('Count')\n",
        "    plt.xlabel('Reason')\n",
        "    plt.title('Count of Reasons for '+airline_name)\n",
        "    \n"
      ],
      "execution_count": 0,
      "outputs": []
    },
    {
      "cell_type": "code",
      "metadata": {
        "trusted": true,
        "id": "Zt79r1RwZcG9",
        "colab_type": "code",
        "colab": {},
        "outputId": "e4b7c21b-db16-4c00-dac7-e15227111c5a"
      },
      "source": [
        "plt.figure(2,figsize=(8, 6))\n",
        "plot_reason('All')\n"
      ],
      "execution_count": 0,
      "outputs": [
        {
          "output_type": "display_data",
          "data": {
            "text/plain": [
              "<Figure size 576x432 with 1 Axes>"
            ],
            "image/png": "[encoded data removed]"
          },
          "metadata": {
            "tags": []
          }
        }
      ]
    },
    {
      "cell_type": "code",
      "metadata": {
        "trusted": true,
        "id": "uIeocwEPZcHD",
        "colab_type": "code",
        "colab": {},
        "outputId": "5cb60496-835e-47ca-cfac-67dc6698ccb8"
      },
      "source": [
        "plt.figure(2,figsize=(14, 14))\n",
        "for i in airlines:\n",
        "    indices= airlines.index(i)\n",
        "    plt.subplot(2,3,indices+1)\n",
        "    plt.subplots_adjust(hspace=0.9)\n",
        "    plot_reason(i)"
      ],
      "execution_count": 0,
      "outputs": [
        {
          "output_type": "display_data",
          "data": {
            "text/plain": [
              "<Figure size 1008x1008 with 6 Axes>"
            ],
            "image/png": "[encoded data removed]"
          },
          "metadata": {
            "tags": []
          }
        }
      ]
    },
    {
      "cell_type": "markdown",
      "metadata": {
        "id": "R3zo9nqYZcHI",
        "colab_type": "text"
      },
      "source": [
        "Top 10 reasons for negative tweets were:\n",
        "1. Customer Service Issue\n",
        "2. Late Flight\n",
        "3. Can't tell\n",
        "4. Cancelled fligts\n",
        "5. Lost luggage\n",
        "6. Bad Flight\n",
        "7. Flight Booking Problems\n",
        "8. Flight attendent complaints\n",
        "9. Longliness\n",
        "10. Damaged luggage\n",
        "\n",
        "\n",
        "                                Top 3 Airlines - Most Late Flight Complaints¶\n",
        "                                1. Delta\n",
        "                                2. United\n",
        "                                3. US Airways\n",
        "\n",
        "                                Top 3 Airlines - Most Lost Luggage Complaints\n",
        "                                1. United\n",
        "                                2. Southwest\n",
        "                                3. Delta\n"
      ]
    },
    {
      "cell_type": "markdown",
      "metadata": {
        "id": "O0kP5-z8ZcHJ",
        "colab_type": "text"
      },
      "source": [
        "## Data Preprocessing\n",
        "**Text substitution**                                                                                                              \n",
        "Since there there is some dependence of sentiment with airlines, we will do substitute each instance of @{airline} with @airline. For example, we will replace @united with @airline. This does not remove all hints about the airlines from the text but it's still a good first step."
      ]
    },
    {
      "cell_type": "code",
      "metadata": {
        "trusted": true,
        "id": "E9yKALh9ZcHK",
        "colab_type": "code",
        "colab": {},
        "outputId": "f86f0061-5167-436f-d0d4-168f0d22ff41"
      },
      "source": [
        "df[['airline_sentiment', 'text']].isna().sum()\n"
      ],
      "execution_count": 0,
      "outputs": [
        {
          "output_type": "execute_result",
          "data": {
            "text/plain": [
              "airline_sentiment    0\n",
              "text                 0\n",
              "dtype: int64"
            ]
          },
          "metadata": {
            "tags": []
          },
          "execution_count": 14
        }
      ]
    },
    {
      "cell_type": "code",
      "metadata": {
        "trusted": true,
        "id": "e-HUIxDZZcHQ",
        "colab_type": "code",
        "colab": {}
      },
      "source": [
        "import re\n",
        "regex = r\"@(VirginAmerica|united|SouthwestAir|Delta|USAirways|AmericanAir)\"\n",
        "def text_replace(s):\n",
        "    return re.sub(regex, '@airline', s, flags=re.IGNORECASE)"
      ],
      "execution_count": 0,
      "outputs": []
    },
    {
      "cell_type": "code",
      "metadata": {
        "trusted": true,
        "id": "OgXsvT-yZcHY",
        "colab_type": "code",
        "colab": {},
        "outputId": "4bed74ed-df26-4bc1-9db7-90f8c9edb526"
      },
      "source": [
        "df['text'] = df['text'].apply(text_replace)"
      ],
      "execution_count": 0,
      "outputs": [
        {
          "output_type": "stream",
          "text": [
            "/opt/conda/lib/python3.6/site-packages/ipykernel_launcher.py:1: SettingWithCopyWarning: \n",
            "A value is trying to be set on a copy of a slice from a DataFrame.\n",
            "Try using .loc[row_indexer,col_indexer] = value instead\n",
            "\n",
            "See the caveats in the documentation: http://pandas.pydata.org/pandas-docs/stable/user_guide/indexing.html#returning-a-view-versus-a-copy\n",
            "  \"\"\"Entry point for launching an IPython kernel.\n"
          ],
          "name": "stderr"
        }
      ]
    },
    {
      "cell_type": "code",
      "metadata": {
        "trusted": true,
        "id": "M-BAMXYoZcHe",
        "colab_type": "code",
        "colab": {},
        "outputId": "dec8ac4c-f752-4a05-8601-b484a7a92be8"
      },
      "source": [
        "df['text'].sample(5)"
      ],
      "execution_count": 0,
      "outputs": [
        {
          "output_type": "execute_result",
          "data": {
            "text/plain": [
              "6969     “@JetBlue: Our fleet's on fleek. http://t.co/L...\n",
              "12790    @airline @barrettkarabis what a joke you can m...\n",
              "12761                                 @airline Absolutely!\n",
              "8169         @JetBlue ugh always know a way to my heart 😘🙌\n",
              "4462     @airline thanks to Ella-Mae at LAS counter for...\n",
              "Name: text, dtype: object"
            ]
          },
          "metadata": {
            "tags": []
          },
          "execution_count": 17
        }
      ]
    },
    {
      "cell_type": "code",
      "metadata": {
        "trusted": true,
        "id": "AzEABcg_ZcHj",
        "colab_type": "code",
        "colab": {}
      },
      "source": [
        "train, test = train_test_split(df, test_size=0.15)"
      ],
      "execution_count": 0,
      "outputs": []
    },
    {
      "cell_type": "markdown",
      "metadata": {
        "id": "m32CWSaqZcHn",
        "colab_type": "text"
      },
      "source": [
        "**Data Augmentation**\n",
        "\n",
        "Since we have a data imbalance problem so to deal with that we will genrate new tweet from minority class through Augmentation usig Synonym Word Replacement.\n",
        "We will be using this library named **[nlpaug](https://github.com/makcedward/nlpaug)** created by  Edward Ma."
      ]
    },
    {
      "cell_type": "markdown",
      "metadata": {
        "id": "WaNcZRdlZcHo",
        "colab_type": "text"
      },
      "source": [
        "We will be splitting our data into all three classes to find how many tweets needed to generate, which will be the difference between the negative and the positive tweets and the negative and the neutral tweets respectively."
      ]
    },
    {
      "cell_type": "code",
      "metadata": {
        "trusted": true,
        "id": "S1oE-kpNZcHp",
        "colab_type": "code",
        "colab": {},
        "outputId": "4d8c9d56-aef9-4d6a-cb04-5856d35987e9"
      },
      "source": [
        "df_pos = train.loc[train.airline_sentiment == 'positive']\n",
        "df_neu = train.loc[train.airline_sentiment == 'neutral']\n",
        "df_neg = train.loc[train.airline_sentiment == 'negative']\n",
        "\n",
        "print('There are {} positive tweets, {} neutral tweets and {} negative tweets'.format(len(df_pos), len(df_neu), len(df_neg)))"
      ],
      "execution_count": 0,
      "outputs": [
        {
          "output_type": "stream",
          "text": [
            "There are 1995 positive tweets, 2636 neutral tweets and 7813 negative tweets\n"
          ],
          "name": "stdout"
        }
      ]
    },
    {
      "cell_type": "code",
      "metadata": {
        "trusted": true,
        "id": "QlrvH_drZcHu",
        "colab_type": "code",
        "colab": {},
        "outputId": "79ae87e3-3e72-49c7-9938-bac4b3438d1e"
      },
      "source": [
        "# calculating number of  positive and neutral augmented tweets we have to create to balance the datasets\n",
        "pos_aug = len(df_neg)-len(df_pos)\n",
        "neu_aug = len(df_neg)-len(df_neu)\n",
        "\n",
        "print('Tweets to create: {} postive tweets, {} neutral tweets'.format(pos_aug,neu_aug))"
      ],
      "execution_count": 0,
      "outputs": [
        {
          "output_type": "stream",
          "text": [
            "Tweets to create: 5818 postive tweets, 5177 neutral tweets\n"
          ],
          "name": "stdout"
        }
      ]
    },
    {
      "cell_type": "code",
      "metadata": {
        "trusted": true,
        "id": "_EQRhfUjZcHz",
        "colab_type": "code",
        "colab": {}
      },
      "source": [
        "def train_aug(n_aug, source_df, train):\n",
        "    # print and store initial df length\n",
        "    train_len = len(train)\n",
        "    print('Data length before augmentation: {} \\n'.format(train_len))\n",
        "    \n",
        "    for n in range(n_aug):\n",
        "        # get a random tweet from the source dataframe\n",
        "        randn = random.randint(0, len(source_df)-1)\n",
        "        row = source_df.iloc[randn].values\n",
        "        # do synonym augmentation\n",
        "        aug = naw.SynonymAug(aug_src='wordnet')\n",
        "        augmented_text = aug.augment(row[1])\n",
        "        # add new row to training dataframe\n",
        "        new_row = {'airline_sentiment': row[0], 'text': augmented_text}\n",
        "        train = train.append(new_row, ignore_index=True)\n",
        "    \n",
        "    new_added = len(train) - train_len\n",
        "    # print \n",
        "    print('{} items added to training datafrane. Training dataframe now has {} rows'.format(new_added, len(train)))\n",
        "    \n",
        "    return train"
      ],
      "execution_count": 0,
      "outputs": []
    },
    {
      "cell_type": "code",
      "metadata": {
        "trusted": true,
        "id": "ugtUdc1eZcH4",
        "colab_type": "code",
        "colab": {},
        "outputId": "bdbcfb88-f1f4-451c-dbd4-b577d309fb0c"
      },
      "source": [
        "# adding postive tweets to training data\n",
        "train = train_aug(pos_aug, df_pos, train)"
      ],
      "execution_count": 0,
      "outputs": [
        {
          "output_type": "stream",
          "text": [
            "Data length before augmentation: 12444 \n",
            "\n",
            "5818 items added to training datafrane. Training dataframe now has 18262 rows\n"
          ],
          "name": "stdout"
        }
      ]
    },
    {
      "cell_type": "code",
      "metadata": {
        "trusted": true,
        "id": "IUA5n5QfZcH9",
        "colab_type": "code",
        "colab": {},
        "outputId": "f879be9a-679d-41d8-86f4-a46f1ae480f1"
      },
      "source": [
        "# adding neutral tweets to training data\n",
        "train = train_aug(neu_aug, df_neu, train)"
      ],
      "execution_count": 0,
      "outputs": [
        {
          "output_type": "stream",
          "text": [
            "Data length before augmentation: 18262 \n",
            "\n",
            "5177 items added to training datafrane. Training dataframe now has 23439 rows\n"
          ],
          "name": "stdout"
        }
      ]
    },
    {
      "cell_type": "code",
      "metadata": {
        "trusted": true,
        "id": "9a89SMJpZcIE",
        "colab_type": "code",
        "colab": {},
        "outputId": "f8c27ff7-01bb-4c7f-ad8a-8ae6e71af092"
      },
      "source": [
        "len_df_all = len(train) + len(test)\n",
        "print('Train length: {}, Test length: {}, Combined data length {}'.format(len(train), len(test), len_df_all))"
      ],
      "execution_count": 0,
      "outputs": [
        {
          "output_type": "stream",
          "text": [
            "Train length: 23439, Test length: 2196, Combined data length 25635\n"
          ],
          "name": "stdout"
        }
      ]
    },
    {
      "cell_type": "markdown",
      "metadata": {
        "id": "dW-n_61dZcIJ",
        "colab_type": "text"
      },
      "source": [
        "> ***In FastAi V3 course on deeplearning jeremy howard had suggested using all of data for improving the language model, so we will be concatenating the two.***"
      ]
    },
    {
      "cell_type": "code",
      "metadata": {
        "trusted": true,
        "id": "EVZvYrnLZcIK",
        "colab_type": "code",
        "colab": {},
        "outputId": "0fcd1b86-c9c6-4c62-9518-7e33cd138dae"
      },
      "source": [
        "# concat train and test set for language model\n",
        "df_lm = pd.concat([train, test])\n",
        "print(len(df_lm))"
      ],
      "execution_count": 0,
      "outputs": [
        {
          "output_type": "stream",
          "text": [
            "25635\n"
          ],
          "name": "stdout"
        }
      ]
    },
    {
      "cell_type": "code",
      "metadata": {
        "trusted": true,
        "id": "rDk3DOV5ZcIP",
        "colab_type": "code",
        "colab": {},
        "outputId": "71f4ce88-0d26-4d77-d9c8-ef402ecf4e9d"
      },
      "source": [
        "df_lm.sample(5)"
      ],
      "execution_count": 0,
      "outputs": [
        {
          "output_type": "execute_result",
          "data": {
            "text/plain": [
              "      airline_sentiment                                               text\n",
              "5259           negative  @airline No flights out of Philly because of s...\n",
              "19675           neutral  @ airway our escape attendant foretell that we...\n",
              "13349          positive  Ne'er got to the strip that fast before . Stok...\n",
              "17693          positive  @ airline Please Help . We in truth need to fl...\n",
              "23115           neutral  @ airline also checked e mail you have on file..."
            ],
            "text/html": [
              "<div>\n",
              "<style scoped>\n",
              "    .dataframe tbody tr th:only-of-type {\n",
              "        vertical-align: middle;\n",
              "    }\n",
              "\n",
              "    .dataframe tbody tr th {\n",
              "        vertical-align: top;\n",
              "    }\n",
              "\n",
              "    .dataframe thead th {\n",
              "        text-align: right;\n",
              "    }\n",
              "</style>\n",
              "<table border=\"1\" class=\"dataframe\">\n",
              "  <thead>\n",
              "    <tr style=\"text-align: right;\">\n",
              "      <th></th>\n",
              "      <th>airline_sentiment</th>\n",
              "      <th>text</th>\n",
              "    </tr>\n",
              "  </thead>\n",
              "  <tbody>\n",
              "    <tr>\n",
              "      <th>5259</th>\n",
              "      <td>negative</td>\n",
              "      <td>@airline No flights out of Philly because of s...</td>\n",
              "    </tr>\n",
              "    <tr>\n",
              "      <th>19675</th>\n",
              "      <td>neutral</td>\n",
              "      <td>@ airway our escape attendant foretell that we...</td>\n",
              "    </tr>\n",
              "    <tr>\n",
              "      <th>13349</th>\n",
              "      <td>positive</td>\n",
              "      <td>Ne'er got to the strip that fast before . Stok...</td>\n",
              "    </tr>\n",
              "    <tr>\n",
              "      <th>17693</th>\n",
              "      <td>positive</td>\n",
              "      <td>@ airline Please Help . We in truth need to fl...</td>\n",
              "    </tr>\n",
              "    <tr>\n",
              "      <th>23115</th>\n",
              "      <td>neutral</td>\n",
              "      <td>@ airline also checked e mail you have on file...</td>\n",
              "    </tr>\n",
              "  </tbody>\n",
              "</table>\n",
              "</div>"
            ]
          },
          "metadata": {
            "tags": []
          },
          "execution_count": 31
        }
      ]
    },
    {
      "cell_type": "code",
      "metadata": {
        "trusted": true,
        "id": "yNn5txpoZcIV",
        "colab_type": "code",
        "colab": {}
      },
      "source": [
        "moms = (0.8,0.7)\n",
        "wd = 0.1"
      ],
      "execution_count": 0,
      "outputs": []
    },
    {
      "cell_type": "markdown",
      "metadata": {
        "id": "ImjTPJ3zZcIa",
        "colab_type": "text"
      },
      "source": [
        "## Get Pre-Trained model"
      ]
    },
    {
      "cell_type": "code",
      "metadata": {
        "trusted": true,
        "id": "Z2MJ-mUlZcIb",
        "colab_type": "code",
        "colab": {}
      },
      "source": [
        "working_path = Path('./').resolve() # fastai needs a working path"
      ],
      "execution_count": 0,
      "outputs": []
    },
    {
      "cell_type": "code",
      "metadata": {
        "trusted": true,
        "id": "2AVRtpM2ZcIg",
        "colab_type": "code",
        "colab": {},
        "outputId": "f2685d39-b1a2-479a-eb36-028a524482af"
      },
      "source": [
        "# prepare/pre-process langauge model data\n",
        "data_lm = (TextList.from_df(df_lm, cols='text')\n",
        "                   .split_by_rand_pct(0.05, seed=42) # default for valid_pct=0.2, we're using 0.05, so we have more data to train lm\n",
        "                   .label_for_lm() # the text is the label\n",
        "                   .databunch())"
      ],
      "execution_count": 0,
      "outputs": [
        {
          "output_type": "display_data",
          "data": {
            "text/plain": [
              "<IPython.core.display.HTML object>"
            ],
            "text/html": [
              ""
            ]
          },
          "metadata": {
            "tags": []
          }
        },
        {
          "output_type": "display_data",
          "data": {
            "text/plain": [
              "<IPython.core.display.HTML object>"
            ],
            "text/html": [
              ""
            ]
          },
          "metadata": {
            "tags": []
          }
        }
      ]
    },
    {
      "cell_type": "code",
      "metadata": {
        "trusted": true,
        "id": "cDNHMZD8ZcIl",
        "colab_type": "code",
        "colab": {},
        "outputId": "6d04cbdd-2211-4276-fcd8-64802a211964"
      },
      "source": [
        "data_lm.show_batch()"
      ],
      "execution_count": 0,
      "outputs": [
        {
          "output_type": "display_data",
          "data": {
            "text/plain": [
              "<IPython.core.display.HTML object>"
            ],
            "text/html": [
              "<table border=\"1\" class=\"dataframe\">\n",
              "  <thead>\n",
              "    <tr style=\"text-align: right;\">\n",
              "      <th>idx</th>\n",
              "      <th>text</th>\n",
              "    </tr>\n",
              "  </thead>\n",
              "  <tbody>\n",
              "    <tr>\n",
              "      <td>0</td>\n",
              "      <td>has to send me to someone else . xxbos @airline xxmaj this was a real life exercise in crisis management which @airline failed xxunk . xxmaj some compensation would go a long way . xxbos @jetblue xxmaj why would you charge money to transfer points to someone ? xxbos @jetblue your customer service agent xxmaj bonnie is amazing on the phone she deserves a promotion ! ! ! xxbos @airline</td>\n",
              "    </tr>\n",
              "    <tr>\n",
              "      <td>1</td>\n",
              "      <td>that your great people got me home safely . xxmaj sad for others who did n't get back bc of scheduling problems . xxbos @jetblue xxmaj indeed . i do n't know what 's going on in xxmaj pittsburgh that weekend , but , it 's drawing a crowd via jetblue ! xxbos @airline go south everyone xxbos @airline i promise , if i can help it i will nvr</td>\n",
              "    </tr>\n",
              "    <tr>\n",
              "      <td>2</td>\n",
              "      <td>after planned . xxrep 4 😡 😤 😤 😤 xxbos @jetblue xxmaj social xxmaj media xxmaj takes xxmaj flight with xxmaj fly # xxunk - xxmaj what brand lesson can we learn ? # xxup xxunk # xxmaj brand https : / / t.co / xxunk xxbos @airline xxmaj thanks . xxbos @airline i keep getting hung up on . xxup please respond so i can book a ticket with</td>\n",
              "    </tr>\n",
              "    <tr>\n",
              "      <td>3</td>\n",
              "      <td>bf will make good use of the voucher # satisfied # happycustomer xxbos @jetblue u xxunk have been sitting here for xxunk because of ur negligence xxbos @jetblue do you have any afternoon flights going from xxup bqn to xxup jfk ? i only seem to find early morning flights . xxbos @airline ... just called and lady at your overseas call center said she saw no note . i</td>\n",
              "    </tr>\n",
              "    <tr>\n",
              "      <td>4</td>\n",
              "      <td>- xxunk ? xxmaj really ? xxmaj after i was told by midnight multiple times ? xxmaj why lie ? xxmaj crazy and bad business . xxbos @airline xxunk that can be a stop over before xxmaj paris . xxmaj you are an xxunk xxbos @airline i am blown away by stellar # custserv ! ! xxmaj thank you &lt;3 http : / / t.co / jorescfb4x xxbos @airline schedule</td>\n",
              "    </tr>\n",
              "  </tbody>\n",
              "</table>"
            ]
          },
          "metadata": {
            "tags": []
          }
        }
      ]
    },
    {
      "cell_type": "code",
      "metadata": {
        "trusted": true,
        "id": "_-WL0tpqZcIr",
        "colab_type": "code",
        "colab": {}
      },
      "source": [
        "# save data\n",
        "data_lm.save('data_lm.pkl')"
      ],
      "execution_count": 0,
      "outputs": []
    },
    {
      "cell_type": "code",
      "metadata": {
        "trusted": true,
        "id": "7gOb_7K5ZcIv",
        "colab_type": "code",
        "colab": {},
        "outputId": "04453ecc-5c79-475e-8da6-eec2af98efe6"
      },
      "source": [
        "# this fetches the wiki103 model\n",
        "learn = language_model_learner(data_lm, AWD_LSTM, drop_mult=0.3, metrics=[accuracy, error_rate]) \n",
        "learn.freeze()"
      ],
      "execution_count": 0,
      "outputs": [
        {
          "output_type": "stream",
          "text": [
            "Downloading https://s3.amazonaws.com/fast-ai-modelzoo/wt103-fwd\n"
          ],
          "name": "stdout"
        },
        {
          "output_type": "display_data",
          "data": {
            "text/plain": [
              "<IPython.core.display.HTML object>"
            ],
            "text/html": [
              ""
            ]
          },
          "metadata": {
            "tags": []
          }
        }
      ]
    },
    {
      "cell_type": "markdown",
      "metadata": {
        "id": "-wnuK6f2ZcI0",
        "colab_type": "text"
      },
      "source": [
        "## Fine-tuning the language model\n"
      ]
    },
    {
      "cell_type": "code",
      "metadata": {
        "trusted": true,
        "id": "69dPeHk8ZcI1",
        "colab_type": "code",
        "colab": {},
        "outputId": "f81a22c4-7b37-4f8a-9f5b-e41b080cabd3"
      },
      "source": [
        "learn.lr_find()\n",
        "learn.recorder.plot(suggestion=True)"
      ],
      "execution_count": 0,
      "outputs": [
        {
          "output_type": "display_data",
          "data": {
            "text/plain": [
              "<IPython.core.display.HTML object>"
            ],
            "text/html": [
              "\n",
              "    <div>\n",
              "        <style>\n",
              "            /* Turns off some styling */\n",
              "            progress {\n",
              "                /* gets rid of default border in Firefox and Opera. */\n",
              "                border: none;\n",
              "                /* Needs to be in here for Safari polyfill so background images work as expected. */\n",
              "                background-size: auto;\n",
              "            }\n",
              "            .progress-bar-interrupted, .progress-bar-interrupted::-webkit-progress-bar {\n",
              "                background: #F44336;\n",
              "            }\n",
              "        </style>\n",
              "      <progress value='0' class='' max='1', style='width:300px; height:20px; vertical-align: middle;'></progress>\n",
              "      0.00% [0/1 00:00<00:00]\n",
              "    </div>\n",
              "    \n",
              "<table border=\"1\" class=\"dataframe\">\n",
              "  <thead>\n",
              "    <tr style=\"text-align: left;\">\n",
              "      <th>epoch</th>\n",
              "      <th>train_loss</th>\n",
              "      <th>valid_loss</th>\n",
              "      <th>accuracy</th>\n",
              "      <th>error_rate</th>\n",
              "      <th>time</th>\n",
              "    </tr>\n",
              "  </thead>\n",
              "  <tbody>\n",
              "  </tbody>\n",
              "</table><p>\n",
              "\n",
              "    <div>\n",
              "        <style>\n",
              "            /* Turns off some styling */\n",
              "            progress {\n",
              "                /* gets rid of default border in Firefox and Opera. */\n",
              "                border: none;\n",
              "                /* Needs to be in here for Safari polyfill so background images work as expected. */\n",
              "                background-size: auto;\n",
              "            }\n",
              "            .progress-bar-interrupted, .progress-bar-interrupted::-webkit-progress-bar {\n",
              "                background: #F44336;\n",
              "            }\n",
              "        </style>\n",
              "      <progress value='99' class='' max='133', style='width:300px; height:20px; vertical-align: middle;'></progress>\n",
              "      74.44% [99/133 00:13<00:04 10.2359]\n",
              "    </div>\n",
              "    "
            ]
          },
          "metadata": {
            "tags": []
          }
        },
        {
          "output_type": "stream",
          "text": [
            "LR Finder is complete, type {learner_name}.recorder.plot() to see the graph.\n",
            "Min numerical gradient: 5.75E-02\n",
            "Min loss divided by 10: 6.31E-02\n"
          ],
          "name": "stdout"
        },
        {
          "output_type": "display_data",
          "data": {
            "text/plain": [
              "<Figure size 432x288 with 1 Axes>"
            ],
            "image/png": "[encoded data removed]"
          },
          "metadata": {
            "tags": []
          }
        }
      ]
    },
    {
      "cell_type": "code",
      "metadata": {
        "trusted": true,
        "id": "F20CH-LZZcI6",
        "colab_type": "code",
        "colab": {},
        "outputId": "e81aa711-f631-4fd8-f9a3-99d71f01e1ad"
      },
      "source": [
        "# 5.0E-02 is LR with the steepest slope above\n",
        "learn.fit_one_cycle(1, 5.0E-02, moms=moms, wd=wd) "
      ],
      "execution_count": 0,
      "outputs": [
        {
          "output_type": "display_data",
          "data": {
            "text/plain": [
              "<IPython.core.display.HTML object>"
            ],
            "text/html": [
              "<table border=\"1\" class=\"dataframe\">\n",
              "  <thead>\n",
              "    <tr style=\"text-align: left;\">\n",
              "      <th>epoch</th>\n",
              "      <th>train_loss</th>\n",
              "      <th>valid_loss</th>\n",
              "      <th>accuracy</th>\n",
              "      <th>error_rate</th>\n",
              "      <th>time</th>\n",
              "    </tr>\n",
              "  </thead>\n",
              "  <tbody>\n",
              "    <tr>\n",
              "      <td>0</td>\n",
              "      <td>4.048082</td>\n",
              "      <td>3.683104</td>\n",
              "      <td>0.311543</td>\n",
              "      <td>0.688457</td>\n",
              "      <td>00:17</td>\n",
              "    </tr>\n",
              "  </tbody>\n",
              "</table>"
            ]
          },
          "metadata": {
            "tags": []
          }
        }
      ]
    },
    {
      "cell_type": "code",
      "metadata": {
        "trusted": true,
        "id": "hq6NMRaKZcJB",
        "colab_type": "code",
        "colab": {},
        "outputId": "eb6af33f-975a-44ee-ae8a-b788f198d17f"
      },
      "source": [
        "# This show the behaviour of our learning rate during training\n",
        "learn.recorder.plot_lr()"
      ],
      "execution_count": 0,
      "outputs": [
        {
          "output_type": "display_data",
          "data": {
            "text/plain": [
              "<Figure size 432x288 with 1 Axes>"
            ],
            "image/png": "[encoded data removed]"
          },
          "metadata": {
            "tags": []
          }
        }
      ]
    },
    {
      "cell_type": "code",
      "metadata": {
        "trusted": true,
        "id": "No9GUObfZcJJ",
        "colab_type": "code",
        "colab": {}
      },
      "source": [
        "# unfreeze model\n",
        "learn.unfreeze()"
      ],
      "execution_count": 0,
      "outputs": []
    },
    {
      "cell_type": "code",
      "metadata": {
        "trusted": true,
        "id": "-dc46hXRZcJP",
        "colab_type": "code",
        "colab": {},
        "outputId": "210ea279-ff92-4e2e-924a-133cf024eccf"
      },
      "source": [
        "learn.fit_one_cycle(3, 5.0E-03, moms=moms, wd=wd)"
      ],
      "execution_count": 0,
      "outputs": [
        {
          "output_type": "display_data",
          "data": {
            "text/plain": [
              "<IPython.core.display.HTML object>"
            ],
            "text/html": [
              "<table border=\"1\" class=\"dataframe\">\n",
              "  <thead>\n",
              "    <tr style=\"text-align: left;\">\n",
              "      <th>epoch</th>\n",
              "      <th>train_loss</th>\n",
              "      <th>valid_loss</th>\n",
              "      <th>accuracy</th>\n",
              "      <th>error_rate</th>\n",
              "      <th>time</th>\n",
              "    </tr>\n",
              "  </thead>\n",
              "  <tbody>\n",
              "    <tr>\n",
              "      <td>0</td>\n",
              "      <td>3.352924</td>\n",
              "      <td>3.383554</td>\n",
              "      <td>0.348788</td>\n",
              "      <td>0.651212</td>\n",
              "      <td>00:18</td>\n",
              "    </tr>\n",
              "    <tr>\n",
              "      <td>1</td>\n",
              "      <td>2.940231</td>\n",
              "      <td>3.074240</td>\n",
              "      <td>0.405198</td>\n",
              "      <td>0.594802</td>\n",
              "      <td>00:18</td>\n",
              "    </tr>\n",
              "    <tr>\n",
              "      <td>2</td>\n",
              "      <td>2.372222</td>\n",
              "      <td>3.009771</td>\n",
              "      <td>0.424841</td>\n",
              "      <td>0.575159</td>\n",
              "      <td>00:18</td>\n",
              "    </tr>\n",
              "  </tbody>\n",
              "</table>"
            ]
          },
          "metadata": {
            "tags": []
          }
        }
      ]
    },
    {
      "cell_type": "code",
      "metadata": {
        "trusted": true,
        "id": "Hl5gxlLCZcJV",
        "colab_type": "code",
        "colab": {},
        "outputId": "8e3f209e-3ee7-46a9-835d-a16530870ca6"
      },
      "source": [
        "learn.predict('are you sure, will ', n_words=20)"
      ],
      "execution_count": 0,
      "outputs": [
        {
          "output_type": "execute_result",
          "data": {
            "text/plain": [
              "\"are you sure, will  refund my ticket when ill be flying AA ? i know the worst big reasons i 've travels tonight\""
            ]
          },
          "metadata": {
            "tags": []
          },
          "execution_count": 45
        }
      ]
    },
    {
      "cell_type": "code",
      "metadata": {
        "trusted": true,
        "id": "gWEwVcvwZcJb",
        "colab_type": "code",
        "colab": {}
      },
      "source": [
        "learn.save('fine_tuned')"
      ],
      "execution_count": 0,
      "outputs": []
    },
    {
      "cell_type": "code",
      "metadata": {
        "trusted": true,
        "id": "p20YNpoMZcJg",
        "colab_type": "code",
        "colab": {}
      },
      "source": [
        "learn.save_encoder('fine_tuned_enc')"
      ],
      "execution_count": 0,
      "outputs": []
    },
    {
      "cell_type": "markdown",
      "metadata": {
        "id": "yIEfaeIdZcJm",
        "colab_type": "text"
      },
      "source": [
        "## Classifier Fine tuning"
      ]
    },
    {
      "cell_type": "code",
      "metadata": {
        "trusted": true,
        "id": "KC7c6osIZcJo",
        "colab_type": "code",
        "colab": {}
      },
      "source": [
        "train_valid, test = train_test_split(df, test_size=0.2) # train_valid and test set\n",
        "train, valid = train_test_split(train_valid, test_size=0.2) # train and valid data that goes into clasifer "
      ],
      "execution_count": 0,
      "outputs": []
    },
    {
      "cell_type": "code",
      "metadata": {
        "trusted": true,
        "collapsed": true,
        "id": "K80OxsfAZcJv",
        "colab_type": "code",
        "colab": {},
        "outputId": "663aae38-ddce-460f-9c14-2e255a07cb44"
      },
      "source": [
        "# loading the data classifier model using the language model vocabulary\n",
        "data_clas = TextClasDataBunch.from_df(working_path, train, valid, \n",
        "                                      test_df=test, \n",
        "                                      vocab=data_lm.train_ds.vocab, \n",
        "                                      text_cols='text', \n",
        "                                      label_cols='airline_sentiment', bs=32)"
      ],
      "execution_count": 0,
      "outputs": [
        {
          "output_type": "display_data",
          "data": {
            "text/plain": [
              "<IPython.core.display.HTML object>"
            ],
            "text/html": [
              ""
            ]
          },
          "metadata": {
            "tags": []
          }
        },
        {
          "output_type": "display_data",
          "data": {
            "text/plain": [
              "<IPython.core.display.HTML object>"
            ],
            "text/html": [
              ""
            ]
          },
          "metadata": {
            "tags": []
          }
        },
        {
          "output_type": "display_data",
          "data": {
            "text/plain": [
              "<IPython.core.display.HTML object>"
            ],
            "text/html": [
              ""
            ]
          },
          "metadata": {
            "tags": []
          }
        }
      ]
    },
    {
      "cell_type": "code",
      "metadata": {
        "trusted": true,
        "id": "nOweBW6AZcJ0",
        "colab_type": "code",
        "colab": {}
      },
      "source": [
        "data_clas.save('data_clas.pkl')"
      ],
      "execution_count": 0,
      "outputs": []
    },
    {
      "cell_type": "code",
      "metadata": {
        "trusted": true,
        "id": "beadNkyrZcJ4",
        "colab_type": "code",
        "colab": {},
        "outputId": "fdf5638b-f049-44d3-ce02-d80a14abc141"
      },
      "source": [
        "data_clas.show_batch()"
      ],
      "execution_count": 0,
      "outputs": [
        {
          "output_type": "display_data",
          "data": {
            "text/plain": [
              "<IPython.core.display.HTML object>"
            ],
            "text/html": [
              "<table border=\"1\" class=\"dataframe\">\n",
              "  <thead>\n",
              "    <tr style=\"text-align: right;\">\n",
              "      <th>text</th>\n",
              "      <th>target</th>\n",
              "    </tr>\n",
              "  </thead>\n",
              "  <tbody>\n",
              "    <tr>\n",
              "      <td>xxbos @airline i xxup just xxup asked xxup my xxup boyfriend xxup to xxup xxunk xxup over xxup the xxup xxunk xxup on xxup flight 494 xxup he xxup said xxup yes xxrep 4 ! xxup best xxup day xxup ever ! ! ! xxup thank u xxup so xxup much xxrep 6 !</td>\n",
              "      <td>positive</td>\n",
              "    </tr>\n",
              "    <tr>\n",
              "      <td>xxbos @airline xxmaj the xxmaj fact xxmaj that u xxmaj see xxmaj black xxmaj history xxmaj month 12 xxmaj months a xxmaj year xxmaj is xxmaj honorable ! xxmaj we xxup will xxup be xxmaj an xxmaj economic xxmaj base xxmaj for xxmaj xxunk xxmaj like u xxmaj in xxmaj future !</td>\n",
              "      <td>positive</td>\n",
              "    </tr>\n",
              "    <tr>\n",
              "      <td>xxbos @airline e xxrep 4 y ! xxmaj cancelled xxmaj flightlations , xxmaj flight xxmaj booking xxmaj problemss , reflight xxmaj booking xxmaj problemss , but y' all got me on the same flight out tonight ( not tomorrow ) &amp; &amp; the xxup fc upgrade . xxmaj thx !</td>\n",
              "      <td>positive</td>\n",
              "    </tr>\n",
              "    <tr>\n",
              "      <td>xxbos @airline xxmaj why do i still not have my bags ? xxmaj they arrived xxup xxunk &amp; &amp; website says they 're still at the airport .. 2 1 / 2 hours xxmaj late xxmaj flightr ? ? ? ! ! # nothappy</td>\n",
              "      <td>negative</td>\n",
              "    </tr>\n",
              "    <tr>\n",
              "      <td>xxbos @airline xxmaj hi ! xxmaj just got my xxup tsa pre - check # &amp; &amp; put it in my acct . xxmaj but it 's not on my boarding pass for a flight this xxunk . xxmaj can it be updated ?</td>\n",
              "      <td>negative</td>\n",
              "    </tr>\n",
              "  </tbody>\n",
              "</table>"
            ]
          },
          "metadata": {
            "tags": []
          }
        }
      ]
    },
    {
      "cell_type": "code",
      "metadata": {
        "trusted": true,
        "id": "7O2hbdJ0ZcJ_",
        "colab_type": "code",
        "colab": {}
      },
      "source": [
        "#initalize model\n",
        "learn = text_classifier_learner(data_clas, AWD_LSTM, drop_mult=0.5, metrics=[accuracy, error_rate])\n",
        "learn.load_encoder('fine_tuned_enc') #loading the language model encoder into the classifer\n",
        "learn.freeze()"
      ],
      "execution_count": 0,
      "outputs": []
    },
    {
      "cell_type": "code",
      "metadata": {
        "trusted": true,
        "id": "vt0CAQBOZcKD",
        "colab_type": "code",
        "colab": {},
        "outputId": "741e5a2a-c20e-4c79-96e9-9edff8c6dcaa"
      },
      "source": [
        "learn.lr_find()\n",
        "learn.recorder.plot(suggestion=True)"
      ],
      "execution_count": 0,
      "outputs": [
        {
          "output_type": "display_data",
          "data": {
            "text/plain": [
              "<IPython.core.display.HTML object>"
            ],
            "text/html": [
              "\n",
              "    <div>\n",
              "        <style>\n",
              "            /* Turns off some styling */\n",
              "            progress {\n",
              "                /* gets rid of default border in Firefox and Opera. */\n",
              "                border: none;\n",
              "                /* Needs to be in here for Safari polyfill so background images work as expected. */\n",
              "                background-size: auto;\n",
              "            }\n",
              "            .progress-bar-interrupted, .progress-bar-interrupted::-webkit-progress-bar {\n",
              "                background: #F44336;\n",
              "            }\n",
              "        </style>\n",
              "      <progress value='0' class='' max='1', style='width:300px; height:20px; vertical-align: middle;'></progress>\n",
              "      0.00% [0/1 00:00<00:00]\n",
              "    </div>\n",
              "    \n",
              "<table border=\"1\" class=\"dataframe\">\n",
              "  <thead>\n",
              "    <tr style=\"text-align: left;\">\n",
              "      <th>epoch</th>\n",
              "      <th>train_loss</th>\n",
              "      <th>valid_loss</th>\n",
              "      <th>accuracy</th>\n",
              "      <th>error_rate</th>\n",
              "      <th>time</th>\n",
              "    </tr>\n",
              "  </thead>\n",
              "  <tbody>\n",
              "  </tbody>\n",
              "</table><p>\n",
              "\n",
              "    <div>\n",
              "        <style>\n",
              "            /* Turns off some styling */\n",
              "            progress {\n",
              "                /* gets rid of default border in Firefox and Opera. */\n",
              "                border: none;\n",
              "                /* Needs to be in here for Safari polyfill so background images work as expected. */\n",
              "                background-size: auto;\n",
              "            }\n",
              "            .progress-bar-interrupted, .progress-bar-interrupted::-webkit-progress-bar {\n",
              "                background: #F44336;\n",
              "            }\n",
              "        </style>\n",
              "      <progress value='92' class='' max='292', style='width:300px; height:20px; vertical-align: middle;'></progress>\n",
              "      31.51% [92/292 00:03<00:07 1.5191]\n",
              "    </div>\n",
              "    "
            ]
          },
          "metadata": {
            "tags": []
          }
        },
        {
          "output_type": "stream",
          "text": [
            "LR Finder is complete, type {learner_name}.recorder.plot() to see the graph.\n",
            "Min numerical gradient: 1.74E-03\n",
            "Min loss divided by 10: 1.74E-02\n"
          ],
          "name": "stdout"
        },
        {
          "output_type": "display_data",
          "data": {
            "text/plain": [
              "<Figure size 432x288 with 1 Axes>"
            ],
            "image/png": "[encoded data removed]"
          },
          "metadata": {
            "tags": []
          }
        }
      ]
    },
    {
      "cell_type": "markdown",
      "metadata": {
        "id": "hHzVnBslZcKI",
        "colab_type": "text"
      },
      "source": [
        "**Gradual freezing**\n",
        "\n",
        "Here we will be train the model by gardually unfreezing the layers, layer by laer.\n",
        "We will start from last layer and we also decrease the learning rate as we train deeper layers in the model.\n",
        "Since the earlier layers have more gerneralized knowledge hence need less training.\n",
        "This method was also propsed by the Ruder and Howard."
      ]
    },
    {
      "cell_type": "code",
      "metadata": {
        "trusted": true,
        "id": "l0hJgSTlZcKK",
        "colab_type": "code",
        "colab": {},
        "outputId": "e32e851b-5cfc-466c-94c3-d5236fcc0da8"
      },
      "source": [
        "# training last layer\n",
        "lr = 3.0E-02\n",
        "learn.fit_one_cycle(1, lr, moms=moms, wd=wd)"
      ],
      "execution_count": 0,
      "outputs": [
        {
          "output_type": "display_data",
          "data": {
            "text/plain": [
              "<IPython.core.display.HTML object>"
            ],
            "text/html": [
              "<table border=\"1\" class=\"dataframe\">\n",
              "  <thead>\n",
              "    <tr style=\"text-align: left;\">\n",
              "      <th>epoch</th>\n",
              "      <th>train_loss</th>\n",
              "      <th>valid_loss</th>\n",
              "      <th>accuracy</th>\n",
              "      <th>error_rate</th>\n",
              "      <th>time</th>\n",
              "    </tr>\n",
              "  </thead>\n",
              "  <tbody>\n",
              "    <tr>\n",
              "      <td>0</td>\n",
              "      <td>0.609129</td>\n",
              "      <td>0.511075</td>\n",
              "      <td>0.790866</td>\n",
              "      <td>0.209134</td>\n",
              "      <td>00:10</td>\n",
              "    </tr>\n",
              "  </tbody>\n",
              "</table>"
            ]
          },
          "metadata": {
            "tags": []
          }
        }
      ]
    },
    {
      "cell_type": "code",
      "metadata": {
        "trusted": true,
        "id": "2EXyd0mIZcKO",
        "colab_type": "code",
        "colab": {}
      },
      "source": [
        "learn.save('first')\n",
        "# learn.load('first)"
      ],
      "execution_count": 0,
      "outputs": []
    },
    {
      "cell_type": "code",
      "metadata": {
        "trusted": true,
        "id": "3dWIJIyNZcKU",
        "colab_type": "code",
        "colab": {},
        "outputId": "44164fc1-065d-4891-d458-c7780b029d26"
      },
      "source": [
        "# train last two layers\n",
        "learn.freeze_to(-2)\n",
        "lr /= 2\n",
        "learn.fit_one_cycle(1, slice(lr/(2.6**4), lr), moms=moms, wd=wd)"
      ],
      "execution_count": 0,
      "outputs": [
        {
          "output_type": "display_data",
          "data": {
            "text/plain": [
              "<IPython.core.display.HTML object>"
            ],
            "text/html": [
              "<table border=\"1\" class=\"dataframe\">\n",
              "  <thead>\n",
              "    <tr style=\"text-align: left;\">\n",
              "      <th>epoch</th>\n",
              "      <th>train_loss</th>\n",
              "      <th>valid_loss</th>\n",
              "      <th>accuracy</th>\n",
              "      <th>error_rate</th>\n",
              "      <th>time</th>\n",
              "    </tr>\n",
              "  </thead>\n",
              "  <tbody>\n",
              "    <tr>\n",
              "      <td>0</td>\n",
              "      <td>0.569399</td>\n",
              "      <td>0.456437</td>\n",
              "      <td>0.836108</td>\n",
              "      <td>0.163892</td>\n",
              "      <td>00:10</td>\n",
              "    </tr>\n",
              "  </tbody>\n",
              "</table>"
            ]
          },
          "metadata": {
            "tags": []
          }
        }
      ]
    },
    {
      "cell_type": "code",
      "metadata": {
        "trusted": true,
        "id": "Mxm8hHMFZcKa",
        "colab_type": "code",
        "colab": {}
      },
      "source": [
        "learn.save('second')\n",
        "# learn.load('first)"
      ],
      "execution_count": 0,
      "outputs": []
    },
    {
      "cell_type": "code",
      "metadata": {
        "trusted": true,
        "id": "E2pc21t2ZcKj",
        "colab_type": "code",
        "colab": {},
        "outputId": "93749164-c99b-4471-aba6-08eea2c2e22f"
      },
      "source": [
        "# training last three layers\n",
        "learn.freeze_to(-3)\n",
        "lr /= 2\n",
        "learn.fit_one_cycle(1, slice(lr/(2.6**4), lr), moms=moms, wd=wd)"
      ],
      "execution_count": 0,
      "outputs": [
        {
          "output_type": "display_data",
          "data": {
            "text/plain": [
              "<IPython.core.display.HTML object>"
            ],
            "text/html": [
              "<table border=\"1\" class=\"dataframe\">\n",
              "  <thead>\n",
              "    <tr style=\"text-align: left;\">\n",
              "      <th>epoch</th>\n",
              "      <th>train_loss</th>\n",
              "      <th>valid_loss</th>\n",
              "      <th>accuracy</th>\n",
              "      <th>error_rate</th>\n",
              "      <th>time</th>\n",
              "    </tr>\n",
              "  </thead>\n",
              "  <tbody>\n",
              "    <tr>\n",
              "      <td>0</td>\n",
              "      <td>0.493650</td>\n",
              "      <td>0.433958</td>\n",
              "      <td>0.837815</td>\n",
              "      <td>0.162185</td>\n",
              "      <td>00:11</td>\n",
              "    </tr>\n",
              "  </tbody>\n",
              "</table>"
            ]
          },
          "metadata": {
            "tags": []
          }
        }
      ]
    },
    {
      "cell_type": "code",
      "metadata": {
        "trusted": true,
        "id": "yYWvFZUiZcKo",
        "colab_type": "code",
        "colab": {},
        "outputId": "9bd89b31-5b9c-42e5-db20-f02d99b6f85e"
      },
      "source": [
        "# training all the layers\n",
        "learn.unfreeze()\n",
        "lr /= 5\n",
        "learn.fit_one_cycle(3, slice(lr/(2.6**4), lr), moms=moms, wd=wd)"
      ],
      "execution_count": 0,
      "outputs": [
        {
          "output_type": "display_data",
          "data": {
            "text/plain": [
              "<IPython.core.display.HTML object>"
            ],
            "text/html": [
              "<table border=\"1\" class=\"dataframe\">\n",
              "  <thead>\n",
              "    <tr style=\"text-align: left;\">\n",
              "      <th>epoch</th>\n",
              "      <th>train_loss</th>\n",
              "      <th>valid_loss</th>\n",
              "      <th>accuracy</th>\n",
              "      <th>error_rate</th>\n",
              "      <th>time</th>\n",
              "    </tr>\n",
              "  </thead>\n",
              "  <tbody>\n",
              "    <tr>\n",
              "      <td>0</td>\n",
              "      <td>0.432074</td>\n",
              "      <td>0.430888</td>\n",
              "      <td>0.827145</td>\n",
              "      <td>0.172855</td>\n",
              "      <td>00:11</td>\n",
              "    </tr>\n",
              "    <tr>\n",
              "      <td>1</td>\n",
              "      <td>0.362202</td>\n",
              "      <td>0.436246</td>\n",
              "      <td>0.834400</td>\n",
              "      <td>0.165600</td>\n",
              "      <td>00:11</td>\n",
              "    </tr>\n",
              "    <tr>\n",
              "      <td>2</td>\n",
              "      <td>0.326232</td>\n",
              "      <td>0.438690</td>\n",
              "      <td>0.834400</td>\n",
              "      <td>0.165600</td>\n",
              "      <td>00:11</td>\n",
              "    </tr>\n",
              "  </tbody>\n",
              "</table>"
            ]
          },
          "metadata": {
            "tags": []
          }
        }
      ]
    },
    {
      "cell_type": "code",
      "metadata": {
        "trusted": true,
        "id": "gKa2VrjmZcKv",
        "colab_type": "code",
        "colab": {},
        "outputId": "27ad5672-af00-4d3f-dfb7-25131efc0824"
      },
      "source": [
        "learn.predict('should i be flying')"
      ],
      "execution_count": 0,
      "outputs": [
        {
          "output_type": "execute_result",
          "data": {
            "text/plain": [
              "(Category neutral, tensor(1), tensor([0.1591, 0.7335, 0.1074]))"
            ]
          },
          "metadata": {
            "tags": []
          },
          "execution_count": 60
        }
      ]
    },
    {
      "cell_type": "code",
      "metadata": {
        "trusted": true,
        "id": "zJZyv7IkZcKz",
        "colab_type": "code",
        "colab": {},
        "outputId": "861236a5-6219-458d-8718-565e65c147a4"
      },
      "source": [
        "learn.predict('flight delayed, again')"
      ],
      "execution_count": 0,
      "outputs": [
        {
          "output_type": "execute_result",
          "data": {
            "text/plain": [
              "(Category negative, tensor(0), tensor([0.9846, 0.0115, 0.0039]))"
            ]
          },
          "metadata": {
            "tags": []
          },
          "execution_count": 61
        }
      ]
    },
    {
      "cell_type": "code",
      "metadata": {
        "trusted": true,
        "id": "Ze4ml7ScZcK3",
        "colab_type": "code",
        "colab": {},
        "outputId": "2ca7b623-824a-48de-b11e-3d80f855a285"
      },
      "source": [
        "learn.predict(\"Safe flight!\")"
      ],
      "execution_count": 0,
      "outputs": [
        {
          "output_type": "execute_result",
          "data": {
            "text/plain": [
              "(Category positive, tensor(2), tensor([0.0070, 0.0199, 0.9731]))"
            ]
          },
          "metadata": {
            "tags": []
          },
          "execution_count": 62
        }
      ]
    },
    {
      "cell_type": "markdown",
      "metadata": {
        "id": "QrD0onDBZcK7",
        "colab_type": "text"
      },
      "source": [
        "# summary of results"
      ]
    },
    {
      "cell_type": "markdown",
      "metadata": {
        "id": "62jAv-nHZcK8",
        "colab_type": "text"
      },
      "source": [
        "## Accuracy of the Model"
      ]
    },
    {
      "cell_type": "code",
      "metadata": {
        "trusted": true,
        "id": "J_pEbE3VZcK_",
        "colab_type": "code",
        "colab": {},
        "outputId": "2afdc06c-c719-4491-cb1b-3e3975ff8209"
      },
      "source": [
        "interpretation = TextClassificationInterpretation.from_learner(learn)\n",
        "acc = accuracy(interpretation.preds, interpretation.y_true)\n",
        "err = error_rate(interpretation.preds, interpretation.y_true)\n",
        "print('Accuracy: {0:.3f}'.format(acc))\n",
        "print('Error rate: {0:.3f}'.format(err))"
      ],
      "execution_count": 0,
      "outputs": [
        {
          "output_type": "display_data",
          "data": {
            "text/plain": [
              "<IPython.core.display.HTML object>"
            ],
            "text/html": [
              ""
            ]
          },
          "metadata": {
            "tags": []
          }
        },
        {
          "output_type": "stream",
          "text": [
            "Accuracy: 0.834\n",
            "Error rate: 0.166\n"
          ],
          "name": "stdout"
        }
      ]
    },
    {
      "cell_type": "markdown",
      "metadata": {
        "id": "ijZQsT-KZcLG",
        "colab_type": "text"
      },
      "source": [
        "## Confusion Matrix"
      ]
    },
    {
      "cell_type": "code",
      "metadata": {
        "trusted": true,
        "id": "XPo7_OM7ZcLH",
        "colab_type": "code",
        "colab": {},
        "outputId": "15005e00-4b9a-4f52-ba54-084b0ac92689"
      },
      "source": [
        "interpretation.plot_confusion_matrix()"
      ],
      "execution_count": 0,
      "outputs": [
        {
          "output_type": "display_data",
          "data": {
            "text/plain": [
              "<Figure size 432x288 with 1 Axes>"
            ],
            "image/png": "[encoded data removed]"
          },
          "metadata": {
            "tags": []
          }
        }
      ]
    },
    {
      "cell_type": "code",
      "metadata": {
        "trusted": true,
        "id": "M7IgU7hkZcLN",
        "colab_type": "code",
        "colab": {},
        "outputId": "9363b2ee-2c7e-4482-ef1e-130ee65916fe"
      },
      "source": [
        "interpretation.most_confused()"
      ],
      "execution_count": 0,
      "outputs": [
        {
          "output_type": "execute_result",
          "data": {
            "text/plain": [
              "[('neutral', 'negative', 129),\n",
              " ('negative', 'neutral', 65),\n",
              " ('neutral', 'positive', 59),\n",
              " ('positive', 'negative', 47),\n",
              " ('positive', 'neutral', 45),\n",
              " ('negative', 'positive', 43)]"
            ]
          },
          "metadata": {
            "tags": []
          },
          "execution_count": 66
        }
      ]
    },
    {
      "cell_type": "code",
      "metadata": {
        "trusted": true,
        "id": "039AFFy-ZcLR",
        "colab_type": "code",
        "colab": {},
        "outputId": "24f99119-02f6-4f51-d6ff-6a0f76645607"
      },
      "source": [
        "interpretation.show_top_losses(20)"
      ],
      "execution_count": 0,
      "outputs": [
        {
          "output_type": "display_data",
          "data": {
            "text/plain": [
              "<IPython.core.display.HTML object>"
            ],
            "text/html": [
              "<table border=\"1\" class=\"dataframe\">\n",
              "  <thead>\n",
              "    <tr style=\"text-align: right;\">\n",
              "      <th>Text</th>\n",
              "      <th>Prediction</th>\n",
              "      <th>Actual</th>\n",
              "      <th>Loss</th>\n",
              "      <th>Probability</th>\n",
              "    </tr>\n",
              "  </thead>\n",
              "  <tbody>\n",
              "    <tr>\n",
              "      <td>xxbos @airline oh , ok ! all good ! looking forward to xxunk the cold for a bit ! thanks !</td>\n",
              "      <td>positive</td>\n",
              "      <td>negative</td>\n",
              "      <td>6.68</td>\n",
              "      <td>0.00</td>\n",
              "    </tr>\n",
              "    <tr>\n",
              "      <td>xxbos @jetblue what are the chances of actually flying out of xxmaj charleston today ? ? xxmaj cold , rainy weather in the south of all places ...</td>\n",
              "      <td>neutral</td>\n",
              "      <td>positive</td>\n",
              "      <td>6.51</td>\n",
              "      <td>0.00</td>\n",
              "    </tr>\n",
              "    <tr>\n",
              "      <td>xxbos @airline want to pick up a customer from @spiritairlines sign me up 🙌 😏</td>\n",
              "      <td>positive</td>\n",
              "      <td>negative</td>\n",
              "      <td>5.99</td>\n",
              "      <td>0.00</td>\n",
              "    </tr>\n",
              "    <tr>\n",
              "      <td>xxbos @airline come back to # xxup phl already . xxmaj we need you to take us out of this horrible cold . # xxunk http : / / t.co / xxunk</td>\n",
              "      <td>negative</td>\n",
              "      <td>positive</td>\n",
              "      <td>5.61</td>\n",
              "      <td>0.00</td>\n",
              "    </tr>\n",
              "    <tr>\n",
              "      <td>xxbos @jetblue finally ! xxmaj finally !</td>\n",
              "      <td>positive</td>\n",
              "      <td>neutral</td>\n",
              "      <td>5.16</td>\n",
              "      <td>0.01</td>\n",
              "    </tr>\n",
              "    <tr>\n",
              "      <td>xxbos @jetblue saved the day : ) @expedia lost a costumer # jetblue # xxunk # xxunk</td>\n",
              "      <td>negative</td>\n",
              "      <td>positive</td>\n",
              "      <td>5.15</td>\n",
              "      <td>0.01</td>\n",
              "    </tr>\n",
              "    <tr>\n",
              "      <td>xxbos @jetblue you just tight that you 're # 59 on the world 's best airlines list &amp; &amp; @virginatlantic is ranked higher ! @virginatlantic here i come !</td>\n",
              "      <td>positive</td>\n",
              "      <td>neutral</td>\n",
              "      <td>5.14</td>\n",
              "      <td>0.01</td>\n",
              "    </tr>\n",
              "    <tr>\n",
              "      <td>xxbos @airline i have two tight connections in # xxmaj charlotte and # xxmaj frankfurt</td>\n",
              "      <td>neutral</td>\n",
              "      <td>negative</td>\n",
              "      <td>5.07</td>\n",
              "      <td>0.01</td>\n",
              "    </tr>\n",
              "    <tr>\n",
              "      <td>xxbos @airline yep , check it and my gmail ' xxmaj promotions ' folder xxunk ... :-(</td>\n",
              "      <td>neutral</td>\n",
              "      <td>negative</td>\n",
              "      <td>5.00</td>\n",
              "      <td>0.01</td>\n",
              "    </tr>\n",
              "    <tr>\n",
              "      <td>xxbos @airline i 'll try to have a great week once i receive it 😩 😭 💔</td>\n",
              "      <td>positive</td>\n",
              "      <td>negative</td>\n",
              "      <td>5.00</td>\n",
              "      <td>0.01</td>\n",
              "    </tr>\n",
              "    <tr>\n",
              "      <td>xxbos @airline i have been on hold for over 28 minutes please help http : / / t.co / xxunk</td>\n",
              "      <td>negative</td>\n",
              "      <td>neutral</td>\n",
              "      <td>4.68</td>\n",
              "      <td>0.01</td>\n",
              "    </tr>\n",
              "    <tr>\n",
              "      <td>xxbos @airline xxmaj row 16 , flight 634 today if you 're looking for specifics ! i can run to xxmaj home xxmaj depot for the xxup xxunk you if you need .</td>\n",
              "      <td>neutral</td>\n",
              "      <td>negative</td>\n",
              "      <td>4.65</td>\n",
              "      <td>0.01</td>\n",
              "    </tr>\n",
              "    <tr>\n",
              "      <td>xxbos @airline just told by supervisor that they wo n't guarantee the empty seats to standby passengers with flights xxmaj cancelled xxmaj flightled so can sell them</td>\n",
              "      <td>negative</td>\n",
              "      <td>neutral</td>\n",
              "      <td>4.63</td>\n",
              "      <td>0.01</td>\n",
              "    </tr>\n",
              "    <tr>\n",
              "      <td>xxbos @airline xxmaj none of the # xxup lax flights into # xxup dfw have been xxmaj cancelled xxmaj flightled . xxmaj those landing before and after ours are fine . xxmaj completely xxunk .</td>\n",
              "      <td>negative</td>\n",
              "      <td>positive</td>\n",
              "      <td>4.61</td>\n",
              "      <td>0.01</td>\n",
              "    </tr>\n",
              "    <tr>\n",
              "      <td>xxbos @jetblue no , but we 're on the flight leaving from xxmaj boston to xxmaj seattle right now . :) flight 597</td>\n",
              "      <td>neutral</td>\n",
              "      <td>positive</td>\n",
              "      <td>4.57</td>\n",
              "      <td>0.01</td>\n",
              "    </tr>\n",
              "    <tr>\n",
              "      <td>xxbos @airline now flying non stop xxup cmh - xxup oak has me xxunk about a trip to the bay ... especially in this weather . # xxunk</td>\n",
              "      <td>negative</td>\n",
              "      <td>positive</td>\n",
              "      <td>4.56</td>\n",
              "      <td>0.01</td>\n",
              "    </tr>\n",
              "    <tr>\n",
              "      <td>xxbos @airline xxmaj lisa j is amazing the guy not so much .</td>\n",
              "      <td>positive</td>\n",
              "      <td>neutral</td>\n",
              "      <td>4.49</td>\n",
              "      <td>0.01</td>\n",
              "    </tr>\n",
              "    <tr>\n",
              "      <td>xxbos @airline # epicfail on connections in # xxmaj chicago today , extremely disappointed w / xxunk customer service , rethinking loyalty 😐</td>\n",
              "      <td>negative</td>\n",
              "      <td>neutral</td>\n",
              "      <td>4.45</td>\n",
              "      <td>0.01</td>\n",
              "    </tr>\n",
              "    <tr>\n",
              "      <td>xxbos @airline xxmaj oh trust me . i am in love . xxmaj it is so beautiful !</td>\n",
              "      <td>positive</td>\n",
              "      <td>neutral</td>\n",
              "      <td>4.41</td>\n",
              "      <td>0.01</td>\n",
              "    </tr>\n",
              "    <tr>\n",
              "      <td>xxbos @airline xxmaj thanks ! ! ! :) xxmaj it is good to air on the side of xxunk</td>\n",
              "      <td>positive</td>\n",
              "      <td>neutral</td>\n",
              "      <td>4.25</td>\n",
              "      <td>0.01</td>\n",
              "    </tr>\n",
              "  </tbody>\n",
              "</table>"
            ]
          },
          "metadata": {
            "tags": []
          }
        }
      ]
    },
    {
      "cell_type": "markdown",
      "metadata": {
        "id": "FawLPNMSZcLV",
        "colab_type": "text"
      },
      "source": [
        "As we can from the results that our model seems to be confusing neutral tweets with negative tweets.                   \n",
        "For Negative tweets the prediction accuracy is pretty high as we can see the true negatives.                           \n",
        "For Positive Tweets its doing a pretty good job.                                                                       \n",
        "\n",
        "If we see the those misclassifed tweets we can that many tweets are misslabeled, which in result increasing our classification error.\n",
        "\n"
      ]
    }
  ]
}